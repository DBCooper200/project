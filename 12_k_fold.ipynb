{
  "cells": [
    {
      "cell_type": "markdown",
      "metadata": {
        "id": "view-in-github",
        "colab_type": "text"
      },
      "source": [
        "<a href=\"https://colab.research.google.com/github/DBCooper200/project/blob/main/12_k_fold.ipynb\" target=\"_parent\"><img src=\"https://colab.research.google.com/assets/colab-badge.svg\" alt=\"Open In Colab\"/></a>"
      ]
    },
    {
      "cell_type": "markdown",
      "metadata": {
        "id": "fE73rkfY32-w"
      },
      "source": [
        "<h1 style='color:blue;' align='center'>KFold Cross Validation Python Tutorial</h2>"
      ]
    },
    {
      "cell_type": "code",
      "execution_count": null,
      "metadata": {
        "id": "U6wr6k2c32-y"
      },
      "outputs": [],
      "source": [
        "from sklearn.linear_model import LogisticRegression\n",
        "from sklearn.svm import SVC\n",
        "from sklearn.ensemble import RandomForestClassifier\n",
        "import numpy as np\n",
        "from sklearn.datasets import load_digits\n",
        "import matplotlib.pyplot as plt\n",
        "digits = load_digits()"
      ]
    },
    {
      "cell_type": "code",
      "execution_count": null,
      "metadata": {
        "id": "02VobcYU32-z"
      },
      "outputs": [],
      "source": [
        "from sklearn.model_selection import train_test_split\n",
        "X_train, X_test, y_train, y_test = train_test_split(digits.data,digits.target,test_size=0.3)"
      ]
    },
    {
      "cell_type": "markdown",
      "metadata": {
        "id": "GJSHwXDi32-0"
      },
      "source": [
        "**Logistic Regression**"
      ]
    },
    {
      "cell_type": "code",
      "execution_count": null,
      "metadata": {
        "id": "UuT8qlJM32-0",
        "outputId": "29a44597-aedf-4fbc-d942-2365d9232a88"
      },
      "outputs": [
        {
          "data": {
            "text/plain": [
              "0.9115191986644408"
            ]
          },
          "execution_count": 22,
          "metadata": {},
          "output_type": "execute_result"
        }
      ],
      "source": [
        "lr = LogisticRegression(solver='liblinear',multi_class='ovr')\n",
        "lr.fit(X_train, y_train)\n",
        "lr.score(X_test, y_test)"
      ]
    },
    {
      "cell_type": "markdown",
      "metadata": {
        "id": "49Rn8fcN32-1"
      },
      "source": [
        "**SVM**"
      ]
    },
    {
      "cell_type": "code",
      "execution_count": null,
      "metadata": {
        "id": "VUFr8gPG32-1",
        "outputId": "1f349687-c3ba-4479-c4e1-c048ccf0d017"
      },
      "outputs": [
        {
          "data": {
            "text/plain": [
              "0.4273789649415693"
            ]
          },
          "execution_count": 23,
          "metadata": {},
          "output_type": "execute_result"
        }
      ],
      "source": [
        "svm = SVC(gamma='auto')\n",
        "svm.fit(X_train, y_train)\n",
        "svm.score(X_test, y_test)"
      ]
    },
    {
      "cell_type": "markdown",
      "metadata": {
        "id": "RhneYNDG32-1"
      },
      "source": [
        "**Random Forest**"
      ]
    },
    {
      "cell_type": "code",
      "execution_count": null,
      "metadata": {
        "id": "o9Pm5Vmt32-1",
        "outputId": "1052b839-9e9b-4b88-a1ad-46ac3ae97853"
      },
      "outputs": [
        {
          "data": {
            "text/plain": [
              "0.9181969949916527"
            ]
          },
          "execution_count": 24,
          "metadata": {},
          "output_type": "execute_result"
        }
      ],
      "source": [
        "rf = RandomForestClassifier(n_estimators=40)\n",
        "rf.fit(X_train, y_train)\n",
        "rf.score(X_test, y_test)"
      ]
    },
    {
      "cell_type": "markdown",
      "metadata": {
        "id": "9GyBbbfb32-1"
      },
      "source": [
        "<h2 style='color:purple'>KFold cross validation</h2>"
      ]
    },
    {
      "cell_type": "markdown",
      "metadata": {
        "id": "qgF7H7ub32-2"
      },
      "source": [
        "**Basic example**"
      ]
    },
    {
      "cell_type": "code",
      "execution_count": null,
      "metadata": {
        "id": "ATMdzI-A32-2",
        "outputId": "8f02dd7c-4d43-411c-ae72-83d43dfe21c7"
      },
      "outputs": [
        {
          "data": {
            "text/plain": [
              "KFold(n_splits=3, random_state=None, shuffle=False)"
            ]
          },
          "execution_count": 6,
          "metadata": {},
          "output_type": "execute_result"
        }
      ],
      "source": [
        "from sklearn.model_selection import KFold\n",
        "kf = KFold(n_splits=3)\n",
        "kf"
      ]
    },
    {
      "cell_type": "code",
      "execution_count": null,
      "metadata": {
        "scrolled": true,
        "id": "o3zqiFfW32-2",
        "outputId": "504911fb-9452-41c1-9e5a-c22fa81ba1d8"
      },
      "outputs": [
        {
          "name": "stdout",
          "output_type": "stream",
          "text": [
            "[3 4 5 6 7 8] [0 1 2]\n",
            "[0 1 2 6 7 8] [3 4 5]\n",
            "[0 1 2 3 4 5] [6 7 8]\n"
          ]
        }
      ],
      "source": [
        "for train_index, test_index in kf.split([1,2,3,4,5,6,7,8,9]):\n",
        "    print(train_index, test_index)"
      ]
    },
    {
      "cell_type": "markdown",
      "metadata": {
        "id": "eQogGQA832-2"
      },
      "source": [
        "**Use KFold for our digits example**"
      ]
    },
    {
      "cell_type": "code",
      "execution_count": null,
      "metadata": {
        "id": "7DRd7i4u32-2"
      },
      "outputs": [],
      "source": [
        "def get_score(model, X_train, X_test, y_train, y_test):\n",
        "    model.fit(X_train, y_train)\n",
        "    return model.score(X_test, y_test)"
      ]
    },
    {
      "cell_type": "code",
      "execution_count": null,
      "metadata": {
        "id": "oRrNM7KU32-3"
      },
      "outputs": [],
      "source": [
        "from sklearn.model_selection import StratifiedKFold\n",
        "folds = StratifiedKFold(n_splits=3)\n",
        "\n",
        "scores_logistic = []\n",
        "scores_svm = []\n",
        "scores_rf = []\n",
        "\n",
        "for train_index, test_index in folds.split(digits.data,digits.target):\n",
        "    X_train, X_test, y_train, y_test = digits.data[train_index], digits.data[test_index], \\\n",
        "                                       digits.target[train_index], digits.target[test_index]\n",
        "    scores_logistic.append(get_score(LogisticRegression(solver='liblinear',multi_class='ovr'), X_train, X_test, y_train, y_test))  \n",
        "    scores_svm.append(get_score(SVC(gamma='auto'), X_train, X_test, y_train, y_test))\n",
        "    scores_rf.append(get_score(RandomForestClassifier(n_estimators=40), X_train, X_test, y_train, y_test))"
      ]
    },
    {
      "cell_type": "code",
      "execution_count": null,
      "metadata": {
        "id": "es7f3H8O32-3",
        "outputId": "3e31e1ea-2f93-4c83-9207-9475cbdda7a8"
      },
      "outputs": [
        {
          "data": {
            "text/plain": [
              "[0.8953488372093024, 0.9499165275459098, 0.9093959731543624]"
            ]
          },
          "execution_count": 26,
          "metadata": {},
          "output_type": "execute_result"
        }
      ],
      "source": [
        "scores_logistic"
      ]
    },
    {
      "cell_type": "code",
      "execution_count": null,
      "metadata": {
        "id": "M5zACoyu32-3",
        "outputId": "b8b26f34-c9a9-42cb-b1cf-0c81b7c00a2a"
      },
      "outputs": [
        {
          "data": {
            "text/plain": [
              "[0.39368770764119604, 0.41068447412353926, 0.4597315436241611]"
            ]
          },
          "execution_count": 27,
          "metadata": {},
          "output_type": "execute_result"
        }
      ],
      "source": [
        "scores_svm"
      ]
    },
    {
      "cell_type": "code",
      "execution_count": null,
      "metadata": {
        "id": "vnpebVPy32-3",
        "outputId": "4752ea34-cd4e-4c45-f321-a55e38e2d841"
      },
      "outputs": [
        {
          "data": {
            "text/plain": [
              "[0.9285714285714286, 0.9515859766277128, 0.9295302013422819]"
            ]
          },
          "execution_count": 28,
          "metadata": {},
          "output_type": "execute_result"
        }
      ],
      "source": [
        "scores_rf"
      ]
    },
    {
      "cell_type": "markdown",
      "metadata": {
        "id": "fMxOqnNR32-4"
      },
      "source": [
        "<h2 style='color:purple'>cross_val_score function</h2>"
      ]
    },
    {
      "cell_type": "code",
      "execution_count": null,
      "metadata": {
        "scrolled": true,
        "id": "3MW5AvJr32-4"
      },
      "outputs": [],
      "source": [
        "from sklearn.model_selection import cross_val_score"
      ]
    },
    {
      "cell_type": "markdown",
      "metadata": {
        "id": "bzasgTMn32-4"
      },
      "source": [
        "**Logistic regression model performance using cross_val_score**"
      ]
    },
    {
      "cell_type": "code",
      "execution_count": null,
      "metadata": {
        "scrolled": true,
        "id": "weSMgJh_32-4",
        "outputId": "65f80612-1cba-40cd-ffaa-07cf6fa6adfd"
      },
      "outputs": [
        {
          "data": {
            "text/plain": [
              "array([0.89534884, 0.94991653, 0.90939597])"
            ]
          },
          "execution_count": 31,
          "metadata": {},
          "output_type": "execute_result"
        }
      ],
      "source": [
        "cross_val_score(LogisticRegression(solver='liblinear',multi_class='ovr'), digits.data, digits.target,cv=3)"
      ]
    },
    {
      "cell_type": "markdown",
      "metadata": {
        "id": "xPRGqg3732-4"
      },
      "source": [
        "**svm model performance using cross_val_score**"
      ]
    },
    {
      "cell_type": "code",
      "execution_count": null,
      "metadata": {
        "scrolled": true,
        "id": "mDY_GjFH32-4",
        "outputId": "5258d69c-307c-4ee6-9931-4ec4a2a2174b"
      },
      "outputs": [
        {
          "data": {
            "text/plain": [
              "array([0.39368771, 0.41068447, 0.45973154])"
            ]
          },
          "execution_count": 32,
          "metadata": {},
          "output_type": "execute_result"
        }
      ],
      "source": [
        "cross_val_score(SVC(gamma='auto'), digits.data, digits.target,cv=3)"
      ]
    },
    {
      "cell_type": "markdown",
      "metadata": {
        "id": "_e4ARsJm32-5"
      },
      "source": [
        "**random forest performance using cross_val_score**"
      ]
    },
    {
      "cell_type": "code",
      "execution_count": null,
      "metadata": {
        "id": "Sh8RmJTY32-5",
        "outputId": "c7a4efa3-c984-4a01-8612-fe1612d87c29"
      },
      "outputs": [
        {
          "data": {
            "text/plain": [
              "array([0.93521595, 0.94156928, 0.93288591])"
            ]
          },
          "execution_count": 33,
          "metadata": {},
          "output_type": "execute_result"
        }
      ],
      "source": [
        "cross_val_score(RandomForestClassifier(n_estimators=40),digits.data, digits.target,cv=3)"
      ]
    },
    {
      "cell_type": "markdown",
      "metadata": {
        "id": "6ZXx1lQq32-5"
      },
      "source": [
        "cross_val_score uses stratifield kfold by default"
      ]
    },
    {
      "cell_type": "markdown",
      "metadata": {
        "id": "qOcQJZ1t32-5"
      },
      "source": [
        "<h2 style='color:purple'>Parameter tunning using k fold cross validation</h2>"
      ]
    },
    {
      "cell_type": "code",
      "execution_count": null,
      "metadata": {
        "id": "TvkhLi0k32-5",
        "outputId": "44dd79ad-ca52-423d-ec44-61b9e567f00f"
      },
      "outputs": [
        {
          "data": {
            "text/plain": [
              "0.8793698637138034"
            ]
          },
          "execution_count": 34,
          "metadata": {},
          "output_type": "execute_result"
        }
      ],
      "source": [
        "scores1 = cross_val_score(RandomForestClassifier(n_estimators=5),digits.data, digits.target, cv=10)\n",
        "np.average(scores1)"
      ]
    },
    {
      "cell_type": "code",
      "execution_count": null,
      "metadata": {
        "id": "EGozGdlE32-5",
        "outputId": "551590eb-80f1-41be-e07f-d8fa8202e844"
      },
      "outputs": [
        {
          "data": {
            "text/plain": [
              "0.9358915527370766"
            ]
          },
          "execution_count": 35,
          "metadata": {},
          "output_type": "execute_result"
        }
      ],
      "source": [
        "scores2 = cross_val_score(RandomForestClassifier(n_estimators=20),digits.data, digits.target, cv=10)\n",
        "np.average(scores2)"
      ]
    },
    {
      "cell_type": "code",
      "execution_count": null,
      "metadata": {
        "id": "XTFP-wQX32-6",
        "outputId": "3ef6afd3-6032-483f-9676-7f7afbc59233"
      },
      "outputs": [
        {
          "data": {
            "text/plain": [
              "0.9494121957589801"
            ]
          },
          "execution_count": 36,
          "metadata": {},
          "output_type": "execute_result"
        }
      ],
      "source": [
        "scores3 = cross_val_score(RandomForestClassifier(n_estimators=30),digits.data, digits.target, cv=10)\n",
        "np.average(scores3)"
      ]
    },
    {
      "cell_type": "code",
      "execution_count": null,
      "metadata": {
        "id": "Pi7VN4sg32-6",
        "outputId": "179ea62b-eb07-467a-e4f6-c3428e55567e"
      },
      "outputs": [
        {
          "data": {
            "text/plain": [
              "0.9482877777434258"
            ]
          },
          "execution_count": 37,
          "metadata": {},
          "output_type": "execute_result"
        }
      ],
      "source": [
        "scores4 = cross_val_score(RandomForestClassifier(n_estimators=40),digits.data, digits.target, cv=10)\n",
        "np.average(scores4)"
      ]
    },
    {
      "cell_type": "markdown",
      "metadata": {
        "id": "hVWsOiy432-6"
      },
      "source": [
        "Here we used cross_val_score to\n",
        "fine tune our random forest classifier and figured that having around 40 trees in random forest gives best result. "
      ]
    }
  ],
  "metadata": {
    "kernelspec": {
      "display_name": "Python 3",
      "language": "python",
      "name": "python3"
    },
    "language_info": {
      "codemirror_mode": {
        "name": "ipython",
        "version": 3
      },
      "file_extension": ".py",
      "mimetype": "text/x-python",
      "name": "python",
      "nbconvert_exporter": "python",
      "pygments_lexer": "ipython3",
      "version": "3.7.3"
    },
    "colab": {
      "provenance": [],
      "include_colab_link": true
    }
  },
  "nbformat": 4,
  "nbformat_minor": 0
}