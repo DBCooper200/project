{
  "nbformat": 4,
  "nbformat_minor": 0,
  "metadata": {
    "colab": {
      "provenance": [],
      "authorship_tag": "ABX9TyNwLeOBbOwECorj/QL1EW/g",
      "include_colab_link": true
    },
    "kernelspec": {
      "name": "python3",
      "display_name": "Python 3"
    },
    "language_info": {
      "name": "python"
    }
  },
  "cells": [
    {
      "cell_type": "markdown",
      "metadata": {
        "id": "view-in-github",
        "colab_type": "text"
      },
      "source": [
        "<a href=\"https://colab.research.google.com/github/DBCooper200/project/blob/main/gradientdescentexample.ipynb\" target=\"_parent\"><img src=\"https://colab.research.google.com/assets/colab-badge.svg\" alt=\"Open In Colab\"/></a>"
      ]
    },
    {
      "cell_type": "code",
      "execution_count": 1,
      "metadata": {
        "id": "4r5ib3jwhRbl"
      },
      "outputs": [],
      "source": [
        "import numpy as np\n",
        "#numpy arrays are faster than python lists"
      ]
    },
    {
      "cell_type": "code",
      "source": [
        "def gradient_descent(x,y,iterations,learning_rate):\n",
        "  #initializing values of m,b, learning rate and iterations these values will be modified accordingly\n",
        "  #the modifications are done to reduce costs\n",
        "  #if no. of iterations is increased the cost is pushed furthur towards 0\n",
        "  #learning rate and iterations are manually modified in such a way to reduce cost\n",
        "  #m,b are changed using the formula\n",
        "  #near the global minima cost remains nearly the same and minimal for different iterations\n",
        "  #if learning rate is increased beyond threshold then cost starts increasing with different iterations\n",
        "  m_curr=b_curr=0\n",
        "  n=len(x)\n",
        "\n",
        "  for i in range(iterations):\n",
        "    y_predicted=m_curr*x+b_curr    #y=mx+b\n",
        "    cost=(1/n)*sum([val**2 for val in (y-y_predicted)])\n",
        "    md=(-2/n)*sum(x*(y-y_predicted))\n",
        "    bd=(-2/n)*sum(y-y_predicted)\n",
        "    m_curr=m_curr-learning_rate*md\n",
        "    b_curr=b_curr-learning_rate*bd\n",
        "    if i==1 or i==2 or i==3 or i==4 or i==5 or i==iterations-1 or i==iterations-2 or i==iterations-3 or i==iterations-4 or i==iterations-5:\n",
        "      print(\"m={}    b={}   cost={}   iteration={}\".format(m_curr,b_curr,cost,i))\n",
        "\n",
        "\n",
        "\n",
        "x=np.array([1,2,3,4,5])\n",
        "y=np.array([5,7,9,11,13])\n",
        "iterations=1000\n",
        "learning_rate=0.0001\n",
        "gradient_descent(x,y,iterations,learning_rate)"
      ],
      "metadata": {
        "colab": {
          "base_uri": "https://localhost:8080/"
        },
        "collapsed": true,
        "id": "-AeFP6-ynWVB",
        "outputId": "8e2b0aa4-6612-4d25-febd-56d90afb9a17"
      },
      "execution_count": 3,
      "outputs": [
        {
          "output_type": "stream",
          "name": "stdout",
          "text": [
            "m=0.012385280000000002    b=0.00359592   cost=88.58369304   iteration=1\n",
            "m=0.018555874832000004    b=0.005387769648   cost=88.16935357626447   iteration=2\n",
            "m=0.024711819245580805    b=0.0071755585691712   cost=87.75697230888764   iteration=3\n",
            "m=0.030853147908099024    b=0.008959296365910018   cost=87.34653998192246   iteration=4\n",
            "m=0.03697989540488166    b=0.010738992617891976   cost=86.93804738317266   iteration=5\n",
            "m=2.360027128203289    b=0.7346882181489416   cost=1.6678016478778923   iteration=995\n",
            "m=2.3605942555903523    b=0.7349252642283898   cost=1.664010160629128   iteration=996\n",
            "m=2.3611599930695166    b=0.7351619226221899   cost=1.6602363182307274   iteration=997\n",
            "m=2.3617243439311904    b=0.7353981942418237   cost=1.6564800372980384   iteration=998\n",
            "m=2.3622873114579965    b=0.7356340799966167   cost=1.6527412348405521   iteration=999\n"
          ]
        }
      ]
    },
    {
      "cell_type": "code",
      "source": [
        "gradient_descent(x,y,iterations,0.001)"
      ],
      "metadata": {
        "colab": {
          "base_uri": "https://localhost:8080/"
        },
        "collapsed": true,
        "id": "jOuTPJUKoN_F",
        "outputId": "b82dcc78-8c05-45f0-831c-0cfc8a9f24c4"
      },
      "execution_count": 4,
      "outputs": [
        {
          "output_type": "stream",
          "name": "stdout",
          "text": [
            "m=0.122528    b=0.035592000000000006   cost=84.881304   iteration=1\n",
            "m=0.181618832    b=0.052785648000000004   cost=80.955185108544   iteration=2\n",
            "m=0.239306503808    b=0.069590363712   cost=77.21263768455901   iteration=3\n",
            "m=0.29562421854195203    b=0.086015343961728   cost=73.64507722605434   iteration=4\n",
            "m=0.35060439367025875    b=0.10206956796255283   cost=70.2443206760065   iteration=5\n",
            "m=2.449307050769595    b=1.3778589819185307   cost=0.47927421333200615   iteration=995\n",
            "m=2.449155141761153    b=1.3784074216500761   cost=0.47895018652693155   iteration=996\n",
            "m=2.449003284112507    b=1.3789556759562092   cost=0.4786263787892881   iteration=997\n",
            "m=2.448851477806295    b=1.3795037448996217   cost=0.4783027899709678   iteration=998\n",
            "m=2.448699722825159    b=1.3800516285429847   cost=0.47797941992396514   iteration=999\n"
          ]
        }
      ]
    },
    {
      "cell_type": "markdown",
      "source": [
        "here for decreased increased lr we see cost decreases till 0.477..."
      ],
      "metadata": {
        "id": "slU_vkNaoZtG"
      }
    },
    {
      "cell_type": "code",
      "source": [
        "gradient_descent(x,y,iterations,0.01)"
      ],
      "metadata": {
        "colab": {
          "base_uri": "https://localhost:8080/"
        },
        "collapsed": true,
        "id": "PmZP-C3gopxt",
        "outputId": "ba4a4caa-d91c-45ea-824c-9d3b182e47f8"
      },
      "execution_count": 5,
      "outputs": [
        {
          "output_type": "stream",
          "name": "stdout",
          "text": [
            "m=1.0928    b=0.3192   cost=52.25039999999999   iteration=1\n",
            "m=1.453232    b=0.42724799999999996   cost=30.831949440000002   iteration=2\n",
            "m=1.7278860800000002    b=0.5115091199999999   cost=18.347751350784   iteration=3\n",
            "m=1.9370605952000002    b=0.5776057727999999   cost=11.070010749324897   iteration=4\n",
            "m=2.096250917888    b=0.6298300216319999   cost=6.826353152519786   iteration=5\n",
            "m=2.0215712964818446    b=2.922120775165232   cost=0.0011114706952090794   iteration=995\n",
            "m=2.021498364745925    b=2.922384081873017   cost=0.0011039677197263124   iteration=996\n",
            "m=2.0214256795894405    b=2.922646498350801   cost=0.001096515393029289   iteration=997\n",
            "m=2.0213532401787155    b=2.9229080276084183   cost=0.0010891133732137189   iteration=998\n",
            "m=2.021281045682893    b=2.923168672645527   cost=0.0010817613206833153   iteration=999\n"
          ]
        }
      ]
    },
    {
      "cell_type": "markdown",
      "source": [
        "for an even greater lr cost is 0.001"
      ],
      "metadata": {
        "id": "KLyYxYbKo02T"
      }
    },
    {
      "cell_type": "code",
      "source": [
        "gradient_descent(x,y,iterations,0.1)"
      ],
      "metadata": {
        "colab": {
          "base_uri": "https://localhost:8080/"
        },
        "collapsed": true,
        "id": "lwX-7zHto8R2",
        "outputId": "e1c745b8-d198-491f-b933-62ca1a220207"
      },
      "execution_count": 6,
      "outputs": [
        {
          "output_type": "stream",
          "name": "stdout",
          "text": [
            "m=-2.320000000000001    b=-0.4800000000000002   cost=165.24   iteration=1\n",
            "m=9.272000000000002    b=2.8080000000000007   cost=307.59840000000014   iteration=2\n",
            "m=-6.611200000000007    b=-1.5168000000000017   cost=573.3613440000004   iteration=3\n",
            "m=15.043520000000012    b=4.5532800000000035   cost=1069.4523110400019   iteration=4\n",
            "m=-14.584192000000016    b=-3.5834880000000053   cost=1995.4416651264037   iteration=5\n",
            "m=-2.4491048514786024e+135    b=-6.783627723369879e+134   cost=4.093688828306461e+271   iteration=995\n",
            "m=3.345943485176516e+135    b=9.267726930175712e+134   cost=7.640772570054698e+271   iteration=996\n",
            "m=-4.571195798022363e+135    b=-1.2661479366918528e+135   cost=1.4261319781711972e+272   iteration=997\n",
            "m=6.245123719641948e+135    b=1.729799129459936e+135   cost=2.6618413262730236e+272   iteration=998\n",
            "m=-8.532027941246304e+135    b=-2.3632349282172212e+135   cost=4.968263354798973e+272   iteration=999\n"
          ]
        }
      ]
    },
    {
      "cell_type": "markdown",
      "source": [
        "for lr=0.1 cost has increased thus lr should lie b/w 0.01 and 0.1"
      ],
      "metadata": {
        "id": "zTZ-grpTpIEy"
      }
    },
    {
      "cell_type": "code",
      "source": [
        "gradient_descent(x,y,iterations,0.015)"
      ],
      "metadata": {
        "colab": {
          "base_uri": "https://localhost:8080/"
        },
        "collapsed": true,
        "id": "UoLfobN0pQPi",
        "outputId": "c3050953-338a-49da-935e-f9936f003057"
      },
      "execution_count": 7,
      "outputs": [
        {
          "output_type": "stream",
          "name": "stdout",
          "text": [
            "m=1.5288    b=0.4482   cost=37.57339999999999   iteration=1\n",
            "m=1.913958    b=0.5671619999999999   cost=16.168456040000002   iteration=2\n",
            "m=2.16130728    b=0.6478909199999999   cost=7.256093700824   iteration=3\n",
            "m=2.3197656948    b=0.7039365371999999   cost=3.5421636408608155   iteration=4\n",
            "m=2.420888727168    b=0.744039528552   cost=1.991444549562505   iteration=5\n",
            "m=2.0039768819895887    b=2.9856421941597624   cost=3.7905784907502184e-05   iteration=995\n",
            "m=2.003956713458646    b=2.9857150089559066   cost=3.7522285759911486e-05   iteration=996\n",
            "m=2.0039366472112614    b=2.9857874544759513   cost=3.714266653715202e-05   iteration=997\n",
            "m=2.0039166827287094    b=2.9858595325926593   cost=3.676688798538337e-05   iteration=998\n",
            "m=2.003896819494896    b=2.985931245169296   cost=3.639491124788293e-05   iteration=999\n"
          ]
        }
      ]
    },
    {
      "cell_type": "markdown",
      "source": [
        "lr=0.015 cost is decreases and is around 0.00003\n",
        "we will attempt to reach global minima which occurs when cost begins to remain nearly constant for several iterations towards the end"
      ],
      "metadata": {
        "id": "yklyiSjOpi_O"
      }
    },
    {
      "cell_type": "code",
      "source": [
        "gradient_descent(x,y,iterations,0.012)"
      ],
      "metadata": {
        "colab": {
          "base_uri": "https://localhost:8080/"
        },
        "collapsed": true,
        "id": "O59YKLqgp0_K",
        "outputId": "0a41157c-9890-45cd-e71d-f7c3d8f2040f"
      },
      "execution_count": 8,
      "outputs": [
        {
          "output_type": "stream",
          "name": "stdout",
          "text": [
            "m=1.276032    b=0.373248   cost=46.083776   iteration=1\n",
            "m=1.656285696    b=0.48841574400000004   cost=24.075358736383997   iteration=2\n",
            "m=1.9278603386880002    b=0.5734411960320001   cost=12.787194832433709   iteration=3\n",
            "m=2.1216174431600643    b=0.6368726629416961   cost=6.995739848822338   iteration=4\n",
            "m=2.259655606434005    b=0.6848312631235708   cost=4.022684610872882   iteration=5\n",
            "m=2.0109721670447764    b=2.960386995518606   cost=0.00028795184683804353   iteration=995\n",
            "m=2.010927651267616    b=2.9605477115989354   cost=0.00028562005639420413   iteration=996\n",
            "m=2.010883316097842    b=2.9607077756292925   cost=0.00028330714843623585   iteration=997\n",
            "m=2.0108391608027025    b=2.960867190255145   cost=0.00028101297005658874   iteration=998\n",
            "m=2.0107951846524186    b=2.961025958111227   cost=0.00027873736958601694   iteration=999\n"
          ]
        }
      ]
    },
    {
      "cell_type": "markdown",
      "source": [
        "here cost nears equality"
      ],
      "metadata": {
        "id": "6_1QbfZmqOYf"
      }
    },
    {
      "cell_type": "code",
      "source": [
        "gradient_descent(x,y,iterations,0.011)"
      ],
      "metadata": {
        "colab": {
          "base_uri": "https://localhost:8080/"
        },
        "collapsed": true,
        "id": "QMAIlvZzqMS5",
        "outputId": "3cc54653-f20a-4f8d-8746-3ab8bf2da0c1"
      },
      "execution_count": 9,
      "outputs": [
        {
          "output_type": "stream",
          "name": "stdout",
          "text": [
            "m=1.1858879999999998    b=0.34663199999999994   cost=49.117784   iteration=1\n",
            "m=1.5580253919999998    b=0.45873748799999997   cost=27.29175595270401   iteration=2\n",
            "m=1.8327065729279999    b=0.543815587392   cost=15.34581326557862   iteration=3\n",
            "m=2.035299753511552    b=0.608893010656128   cost=8.806120914331066   iteration=4\n",
            "m=2.184570274458452    b=0.6591675806899308   cost=5.224666509005328   iteration=5\n",
            "m=2.015385415768667    b=2.944453767309126   cost=0.0005657944818939321   iteration=995\n",
            "m=2.015328196510247    b=2.944660346987593   cost=0.0005615938622776218   iteration=996\n",
            "m=2.015271190053586    b=2.94486615838419   cost=0.0005574244292594959   iteration=997\n",
            "m=2.0152143956072615    b=2.9450712043562013   cost=0.000553285951301348   iteration=998\n",
            "m=2.0151578123827947    b=2.9452754877502856   cost=0.0005491781985839862   iteration=999\n"
          ]
        }
      ]
    },
    {
      "cell_type": "markdown",
      "source": [
        "we stop here and lr=0.011"
      ],
      "metadata": {
        "id": "MMFVq0jrqiK_"
      }
    },
    {
      "cell_type": "code",
      "source": [
        "learning_rate=0.011"
      ],
      "metadata": {
        "id": "6kxxAK8trV7f"
      },
      "execution_count": null,
      "outputs": []
    },
    {
      "cell_type": "markdown",
      "source": [
        "now we try altering iterations for faster performance"
      ],
      "metadata": {
        "id": "K59IF8QyrfhT"
      }
    },
    {
      "cell_type": "code",
      "source": [
        "gradient_descent(x,y,500,learning_rate)"
      ],
      "metadata": {
        "colab": {
          "base_uri": "https://localhost:8080/"
        },
        "id": "u7qDm17Trlt4",
        "outputId": "2fcc1ab0-2c73-4a11-a140-8ed2fadf1453"
      },
      "execution_count": 10,
      "outputs": [
        {
          "output_type": "stream",
          "name": "stdout",
          "text": [
            "m=0.012385280000000002    b=0.00359592   cost=88.58369304   iteration=1\n",
            "m=0.018555874832000004    b=0.005387769648   cost=88.16935357626447   iteration=2\n",
            "m=0.024711819245580805    b=0.0071755585691712   cost=87.75697230888764   iteration=3\n",
            "m=0.030853147908099024    b=0.008959296365910018   cost=87.34653998192246   iteration=4\n",
            "m=0.03697989540488166    b=0.010738992617891976   cost=86.93804738317266   iteration=5\n",
            "m=1.8068313517282322    b=0.5411408844082992   cost=9.346235551820852   iteration=495\n",
            "m=1.808731638223785    b=0.5417485574203806   cost=9.306290493652345   iteration=496\n",
            "m=1.8106273794852406    b=0.5423549687259623   cost=9.266533960864232   iteration=497\n",
            "m=1.8125185862691375    b=0.542960121304526   cost=9.22696506235752   iteration=498\n",
            "m=1.8144052693065627    b=0.5435640181285036   cost=9.187582911245224   iteration=499\n"
          ]
        }
      ]
    },
    {
      "cell_type": "markdown",
      "source": [
        "here cost is quite high even though it decreases"
      ],
      "metadata": {
        "id": "fafOeJjyrwKJ"
      }
    },
    {
      "cell_type": "code",
      "source": [
        "gradient_descent(x,y,700,learning_rate)"
      ],
      "metadata": {
        "colab": {
          "base_uri": "https://localhost:8080/"
        },
        "id": "cFY-wF6WrqGn",
        "outputId": "eed47c04-04fa-40e4-def8-e94ccf5a985d"
      },
      "execution_count": 11,
      "outputs": [
        {
          "output_type": "stream",
          "name": "stdout",
          "text": [
            "m=0.012385280000000002    b=0.00359592   cost=88.58369304   iteration=1\n",
            "m=0.018555874832000004    b=0.005387769648   cost=88.16935357626447   iteration=2\n",
            "m=0.024711819245580805    b=0.0071755585691712   cost=87.75697230888764   iteration=3\n",
            "m=0.030853147908099024    b=0.008959296365910018   cost=87.34653998192246   iteration=4\n",
            "m=0.03697989540488166    b=0.010738992617891976   cost=86.93804738317266   iteration=5\n",
            "m=2.1090614573035165    b=0.6410640082676013   cost=4.167325784924815   iteration=695\n",
            "m=2.110236883692488    b=0.6414703585915658   cost=4.1518034475870405   iteration=696\n",
            "m=2.1114094803332097    b=0.641875922389632   cost=4.136354198599378   iteration=697\n",
            "m=2.112579253923043    b=0.6422807015169542   cost=4.1209776925082195   iteration=698\n",
            "m=2.113746211143502    b=0.6426846978242969   cost=4.105673585492856   iteration=699\n"
          ]
        }
      ]
    },
    {
      "cell_type": "markdown",
      "source": [
        "cost has reduced furthur"
      ],
      "metadata": {
        "id": "fDA_Cvtar3XZ"
      }
    },
    {
      "cell_type": "code",
      "source": [
        "gradient_descent(x,y,800,learning_rate)"
      ],
      "metadata": {
        "colab": {
          "base_uri": "https://localhost:8080/"
        },
        "id": "lLYooABdr6Ig",
        "outputId": "50c77306-b7c5-407f-eeee-fd36dc1466b5"
      },
      "execution_count": 12,
      "outputs": [
        {
          "output_type": "stream",
          "name": "stdout",
          "text": [
            "m=0.012385280000000002    b=0.00359592   cost=88.58369304   iteration=1\n",
            "m=0.018555874832000004    b=0.005387769648   cost=88.16935357626447   iteration=2\n",
            "m=0.024711819245580805    b=0.0071755585691712   cost=87.75697230888764   iteration=3\n",
            "m=0.030853147908099024    b=0.008959296365910018   cost=87.34653998192246   iteration=4\n",
            "m=0.03697989540488166    b=0.010738992617891976   cost=86.93804738317266   iteration=5\n",
            "m=2.213620385577706    b=0.6780892574443111   cost=2.9268822204211666   iteration=795\n",
            "m=2.2145435671749683    b=0.6784254673614757   cost=2.9171950482629736   iteration=796\n",
            "m=2.2154645160467665    b=0.6787610561276984   cost=2.907553384804571   iteration=797\n",
            "m=2.216383237477787    b=0.6790960252068449   cost=2.8979570149552214   iteration=798\n",
            "m=2.217299736740212    b=0.6794303760593168   cost=2.8884057246408754   iteration=799\n"
          ]
        }
      ]
    },
    {
      "cell_type": "code",
      "source": [
        "gradient_descent(x,y,900,learning_rate)"
      ],
      "metadata": {
        "colab": {
          "base_uri": "https://localhost:8080/"
        },
        "id": "-x4eLJpGr-c8",
        "outputId": "72325738-16ba-40bb-caa2-e889eea78eb4"
      },
      "execution_count": 13,
      "outputs": [
        {
          "output_type": "stream",
          "name": "stdout",
          "text": [
            "m=0.012385280000000002    b=0.00359592   cost=88.58369304   iteration=1\n",
            "m=0.018555874832000004    b=0.005387769648   cost=88.16935357626447   iteration=2\n",
            "m=0.024711819245580805    b=0.0071755585691712   cost=87.75697230888764   iteration=3\n",
            "m=0.030853147908099024    b=0.008959296365910018   cost=87.34653998192246   iteration=4\n",
            "m=0.03697989540488166    b=0.010738992617891976   cost=86.93804738317266   iteration=5\n",
            "m=2.2956942013654937    b=0.7088592721655038   cost=2.152303193672403   iteration=895\n",
            "m=2.2964183585591904    b=0.7091400837902514   cost=2.146249336277069   iteration=896\n",
            "m=2.297140754120086    b=0.7094204047583579   cost=2.14022381558508   iteration=897\n",
            "m=2.297861392218167    b=0.7097002362249342   cost=2.1342264976738536   iteration=898\n",
            "m=2.298580277013552    b=0.7099795793423582   cost=2.128257249253833   iteration=899\n"
          ]
        }
      ]
    },
    {
      "cell_type": "code",
      "source": [
        "gradient_descent(x,y,1500,learning_rate)"
      ],
      "metadata": {
        "colab": {
          "base_uri": "https://localhost:8080/"
        },
        "id": "_EqkQ_dNsBgg",
        "outputId": "44da0f16-e4b5-4ebc-91e6-72a5a4fb1aa2"
      },
      "execution_count": 14,
      "outputs": [
        {
          "output_type": "stream",
          "name": "stdout",
          "text": [
            "m=0.012385280000000002    b=0.00359592   cost=88.58369304   iteration=1\n",
            "m=0.018555874832000004    b=0.005387769648   cost=88.16935357626447   iteration=2\n",
            "m=0.024711819245580805    b=0.0071755585691712   cost=87.75697230888764   iteration=3\n",
            "m=0.030853147908099024    b=0.008959296365910018   cost=87.34653998192246   iteration=4\n",
            "m=0.03697989540488166    b=0.010738992617891976   cost=86.93804738317266   iteration=5\n",
            "m=2.522224033265591    b=0.8192592334245544   cost=0.9229228505207854   iteration=1495\n",
            "m=2.5223835848523524    b=0.8193820471579102   cost=0.9225162093596984   iteration=1496\n",
            "m=2.5225427117373824    b=0.8195047405975672   cost=0.9221112228180774   iteration=1497\n",
            "m=2.5227014149272016    b=0.8196273140224052   cost=0.9217078830929856   iteration=1498\n",
            "m=2.5228596954259483    b=0.8197497677106443   cost=0.9213061824183648   iteration=1499\n"
          ]
        }
      ]
    },
    {
      "cell_type": "code",
      "source": [
        "gradient_descent(x,y,1200,learning_rate)"
      ],
      "metadata": {
        "colab": {
          "base_uri": "https://localhost:8080/"
        },
        "id": "cDilq3-RsI_b",
        "outputId": "b9bfec33-3f63-4521-f059-e6b119a11ca9"
      },
      "execution_count": 15,
      "outputs": [
        {
          "output_type": "stream",
          "name": "stdout",
          "text": [
            "m=0.012385280000000002    b=0.00359592   cost=88.58369304   iteration=1\n",
            "m=0.018555874832000004    b=0.005387769648   cost=88.16935357626447   iteration=2\n",
            "m=0.024711819245580805    b=0.0071755585691712   cost=87.75697230888764   iteration=3\n",
            "m=0.030853147908099024    b=0.008959296365910018   cost=87.34653998192246   iteration=4\n",
            "m=0.03697989540488166    b=0.010738992617891976   cost=86.93804738317266   iteration=5\n",
            "m=2.449654781838631    b=0.7754521396989429   cost=1.1725307527094233   iteration=1195\n",
            "m=2.4500002700347667    b=0.7756272564018999   cost=1.171025337024236   iteration=1196\n",
            "m=2.450344893086849    b=0.7758021307885986   cost=1.169526764144412   iteration=1197\n",
            "m=2.450688653043585    b=0.7759767634265888   cost=1.168035001743962   iteration=1198\n",
            "m=2.4510315519488333    b=0.7761511548820773   cost=1.1665500176496912   iteration=1199\n"
          ]
        }
      ]
    },
    {
      "cell_type": "code",
      "source": [
        "gradient_descent(x,y,1400,learning_rate)"
      ],
      "metadata": {
        "colab": {
          "base_uri": "https://localhost:8080/"
        },
        "id": "nmlDp49QsMjQ",
        "outputId": "5e45cb86-79f3-4e91-d3a7-7b185dff52fb"
      },
      "execution_count": 16,
      "outputs": [
        {
          "output_type": "stream",
          "name": "stdout",
          "text": [
            "m=0.012385280000000002    b=0.00359592   cost=88.58369304   iteration=1\n",
            "m=0.018555874832000004    b=0.005387769648   cost=88.16935357626447   iteration=2\n",
            "m=0.024711819245580805    b=0.0071755585691712   cost=87.75697230888764   iteration=3\n",
            "m=0.030853147908099024    b=0.008959296365910018   cost=87.34653998192246   iteration=4\n",
            "m=0.03697989540488166    b=0.010738992617891976   cost=86.93804738317266   iteration=5\n",
            "m=2.5039402408253335    b=0.8063194268784891   cost=0.9734630823727453   iteration=1395\n",
            "m=2.5041477806393906    b=0.8064557988486182   cost=0.9728443885685079   iteration=1396\n",
            "m=2.504354782042675    b=0.8065920190204648   cost=0.9722283498954634   iteration=1397\n",
            "m=2.5045612463107685    b=0.8067280877474351   cost=0.9716149538215939   iteration=1398\n",
            "m=2.5047671747162363    b=0.8068640053820991   cost=0.9710041878741189   iteration=1399\n"
          ]
        }
      ]
    },
    {
      "cell_type": "code",
      "source": [
        "gradient_descent(x,y,1399,learning_rate)"
      ],
      "metadata": {
        "colab": {
          "base_uri": "https://localhost:8080/"
        },
        "id": "SBpkfx4VsQ4x",
        "outputId": "53aa3e1d-70bb-492a-e2f3-1294be37506f"
      },
      "execution_count": 22,
      "outputs": [
        {
          "output_type": "stream",
          "name": "stdout",
          "text": [
            "m=0.012385280000000002    b=0.00359592   cost=88.58369304   iteration=1\n",
            "m=0.018555874832000004    b=0.005387769648   cost=88.16935357626447   iteration=2\n",
            "m=0.024711819245580805    b=0.0071755585691712   cost=87.75697230888764   iteration=3\n",
            "m=0.030853147908099024    b=0.008959296365910018   cost=87.34653998192246   iteration=4\n",
            "m=0.03697989540488166    b=0.010738992617891976   cost=86.93804738317266   iteration=5\n",
            "m=2.5037321613218952    b=0.8061829027558334   cost=0.974084443899708   iteration=1394\n",
            "m=2.5039402408253335    b=0.8063194268784891   cost=0.9734630823727453   iteration=1395\n",
            "m=2.5041477806393906    b=0.8064557988486182   cost=0.9728443885685079   iteration=1396\n",
            "m=2.504354782042675    b=0.8065920190204648   cost=0.9722283498954634   iteration=1397\n",
            "m=2.5045612463107685    b=0.8067280877474351   cost=0.9716149538215939   iteration=1398\n"
          ]
        }
      ]
    }
  ]
}